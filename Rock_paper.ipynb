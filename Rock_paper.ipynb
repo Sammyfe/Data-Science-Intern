{
  "nbformat": 4,
  "nbformat_minor": 0,
  "metadata": {
    "colab": {
      "provenance": []
    },
    "kernelspec": {
      "name": "python3",
      "display_name": "Python 3"
    },
    "language_info": {
      "name": "python"
    }
  },
  "cells": [
    {
      "cell_type": "code",
      "execution_count": 1,
      "metadata": {
        "id": "_BVyHbpkopGU"
      },
      "outputs": [],
      "source": [
        "import random\n",
        "\n",
        "# Define the possible choices\n",
        "choices = [\"Rock\", \"Paper\", \"Scissors\"]"
      ]
    },
    {
      "cell_type": "markdown",
      "source": [
        "Getting users choices"
      ],
      "metadata": {
        "id": "i2z8sFKQqRF6"
      }
    },
    {
      "cell_type": "code",
      "source": [
        "# Function to get the user's choice\n",
        "def get_user_choice():\n",
        "    while True:\n",
        "        user_choice = input(\"Choose Rock, Paper, or Scissors: \").capitalize()\n",
        "        if user_choice in choices:\n",
        "            return user_choice\n",
        "        else:\n",
        "            print(\"Invalid choice. Please try again.\")\n"
      ],
      "metadata": {
        "id": "9Bba7I7WqYDn"
      },
      "execution_count": 2,
      "outputs": []
    },
    {
      "cell_type": "markdown",
      "source": [
        "Generating random choices for the computer"
      ],
      "metadata": {
        "id": "hFoNvopxqe9O"
      }
    },
    {
      "cell_type": "code",
      "source": [
        "# Function to generate a random choice for the computer\n",
        "def get_computer_choice():\n",
        "    return random.choice(choices)"
      ],
      "metadata": {
        "id": "C7HMSGOWqopn"
      },
      "execution_count": 3,
      "outputs": []
    },
    {
      "cell_type": "markdown",
      "source": [
        "We need to determine the winner"
      ],
      "metadata": {
        "id": "QkxurK3rq_Kg"
      }
    },
    {
      "cell_type": "code",
      "source": [
        "# Function to determine the winner\n",
        "def determine_winner(user_choice, computer_choice):\n",
        "    if user_choice == computer_choice:\n",
        "        return \"It's a tie!\"\n",
        "    elif (\n",
        "        (user_choice == \"Rock\" and computer_choice == \"Scissors\") or\n",
        "        (user_choice == \"Paper\" and computer_choice == \"Rock\") or\n",
        "        (user_choice == \"Scissors\" and computer_choice == \"Paper\")\n",
        "    ):\n",
        "        return \"You win!\"\n",
        "    else:\n",
        "        return \"Computer wins!\"\n",
        "\n",
        "# Main game loop\n",
        "def play_game():\n",
        "    user_choice = get_user_choice()\n",
        "    computer_choice = get_computer_choice()\n",
        "\n",
        "    print(f\"You chose {user_choice}.\")\n",
        "    print(f\"Computer chose {computer_choice}.\")\n",
        "\n",
        "    result = determine_winner(user_choice, computer_choice)\n",
        "    print(result)\n",
        "\n",
        "# Run the game\n",
        "if __name__ == \"__main__\":\n",
        "    play_game()"
      ],
      "metadata": {
        "colab": {
          "base_uri": "https://localhost:8080/"
        },
        "id": "FPsZX69NrEbY",
        "outputId": "3ca57061-9fcc-4584-b9c7-e240d87364b6"
      },
      "execution_count": 4,
      "outputs": [
        {
          "output_type": "stream",
          "name": "stdout",
          "text": [
            "Choose Rock, Paper, or Scissors: rock\n",
            "You chose Rock.\n",
            "Computer chose Rock.\n",
            "It's a tie!\n"
          ]
        }
      ]
    }
  ]
}